{
 "cells": [
  {
   "cell_type": "markdown",
   "metadata": {},
   "source": [
    "### Decorator"
   ]
  },
  {
   "cell_type": "code",
   "execution_count": 89,
   "metadata": {},
   "outputs": [],
   "source": [
    "def call_counter(func):\n",
    "    def counter(*args, **kwargs):\n",
    "        counter.calls += 1\n",
    "        return func(*args, **kwargs)\n",
    "    counter.calls = 0\n",
    "    return counter"
   ]
  },
  {
   "cell_type": "markdown",
   "metadata": {},
   "source": [
    "### Classes Company, Job, Person, Date, Time"
   ]
  },
  {
   "cell_type": "code",
   "execution_count": 121,
   "metadata": {},
   "outputs": [],
   "source": [
    "class CompanyError(Exception):\n",
    "    def __init__(self, message, value):\n",
    "        self._message = message\n",
    "        self._value = value\n",
    "        super().__init__(f\"{message}: {value}\")\n",
    "        \n",
    "        \n",
    "class Company:\n",
    "    \n",
    "    def __init__(self, company_name, founded_at, employees_count):\n",
    "        \n",
    "        if employees_count < 0:\n",
    "            raise CompanyError(\"Employee count cannot be negative\", employees_count)\n",
    "        self._company_name = company_name\n",
    "        self._founded_at = founded_at\n",
    "        self._employees_count = employees_count\n",
    "            \n",
    "    def __repr__(self):\n",
    "        return f\"{self._company_name} was founded at {self._founded_at} and has {self._employees_count} employees\"\n",
    "\n",
    "\n",
    "class JobError(Exception):\n",
    "    def __init__(self, message, value):\n",
    "        self._message = message\n",
    "        self._value = value\n",
    "        super().__init__(f\"{message}: {value}\")\n",
    "    \n",
    "class Job:\n",
    "    \n",
    "    def __init__(self,company,salary, experience_year, position):\n",
    "        if salary < 0:\n",
    "            raise JobError(\"Salary cannot be negative\",salary)\n",
    "            \n",
    "        if experience_year < 0:\n",
    "            raise JobError(\"Experience cannot be negative\", experience_year)\n",
    "        self._company = company\n",
    "        self._salary = salary\n",
    "        self._experience_year = experience_year\n",
    "        self._position = position\n",
    "        \n",
    "    def __repr__(self):\n",
    "        return f\"Job at {self._company.company_name} as {self._position} with ${self._salary} salary. Required experience of {self._experience_year} years\"\n",
    "    \n",
    "    \n",
    "    def salary_change(self, changes_salary):\n",
    "        self._salary = changes_salary\n",
    "        \n",
    "    def change_experience_year(self, new_year):\n",
    "        self._experience_year = new_year\n",
    "        \n",
    "    def change_position(self,new_position):\n",
    "        self._position = new_position\n",
    "\n",
    "class PersonError(Exception):\n",
    "    def __init__(self, message, value):\n",
    "        self._message = message\n",
    "        self._value = value\n",
    "        super().__init__(f\"{message}: {value}\")\n",
    "    \n",
    "class Person:\n",
    "    \n",
    "    def __init__(self, name, surname, gender, age, address, friends = [], jobs = []):\n",
    "        if gender not in [\"Male\", \"Female\"]:\n",
    "            raise PersonError(\"Gender should be Male or Female \", gender)\n",
    "            \n",
    "        if age < 0:\n",
    "            raise PersonError(\"Age cannot be nagetive\", age)\n",
    "        self._name = name\n",
    "        self._surname = surname\n",
    "        self._gender = gender\n",
    "        self._age = age\n",
    "        self._address = address\n",
    "        self._friends = friends\n",
    "        self._jobs = jobs\n",
    "        \n",
    "    def __repr__(self):\n",
    "        return f\"\"\"{self._name} {self._surname}({self._gender}) is {self._age} years old, lives at {self._address},\n",
    "                works as {self._jobs} and is friends with {self._friends}\"\"\"\n",
    "    \n",
    "\n",
    "    def add_friends(self, friend):\n",
    "        self._friends.append(friend)\n",
    "         \n",
    "    def remove_friend(self, friend):\n",
    "        self._friends.remove(friend)\n",
    "        \n",
    "    def add_job(self,job):\n",
    "        self._jobs.append(job)\n",
    "        job._company._employees_count += 1\n",
    "        \n",
    "    def remove_job(self,job, company):\n",
    "        self._jobs.remove(job)\n",
    "        company._employees_count -= 1\n",
    "        \n",
    "    def display_job(self):\n",
    "        print(self._jobs)"
   ]
  },
  {
   "cell_type": "code",
   "execution_count": 116,
   "metadata": {},
   "outputs": [
    {
     "ename": "CompanyError",
     "evalue": "Employee count cannot be negative: -20",
     "output_type": "error",
     "traceback": [
      "\u001b[1;31m---------------------------------------------------------------------------\u001b[0m",
      "\u001b[1;31mCompanyError\u001b[0m                              Traceback (most recent call last)",
      "\u001b[1;32m<ipython-input-116-5c3236dc1170>\u001b[0m in \u001b[0;36m<module>\u001b[1;34m\u001b[0m\n\u001b[1;32m----> 1\u001b[1;33m \u001b[0mcomp1\u001b[0m \u001b[1;33m=\u001b[0m \u001b[0mCompany\u001b[0m\u001b[1;33m(\u001b[0m\u001b[1;34m\"Apple\"\u001b[0m\u001b[1;33m,\u001b[0m \u001b[1;36m1970\u001b[0m\u001b[1;33m,\u001b[0m \u001b[1;33m-\u001b[0m\u001b[1;36m20\u001b[0m\u001b[1;33m)\u001b[0m\u001b[1;33m\u001b[0m\u001b[1;33m\u001b[0m\u001b[0m\n\u001b[0m",
      "\u001b[1;32m<ipython-input-115-0b76077916ed>\u001b[0m in \u001b[0;36m__init__\u001b[1;34m(self, company_name, founded_at, employees_count)\u001b[0m\n\u001b[0;32m     11\u001b[0m \u001b[1;33m\u001b[0m\u001b[0m\n\u001b[0;32m     12\u001b[0m         \u001b[1;32mif\u001b[0m \u001b[0memployees_count\u001b[0m \u001b[1;33m<\u001b[0m \u001b[1;36m0\u001b[0m\u001b[1;33m:\u001b[0m\u001b[1;33m\u001b[0m\u001b[1;33m\u001b[0m\u001b[0m\n\u001b[1;32m---> 13\u001b[1;33m             \u001b[1;32mraise\u001b[0m \u001b[0mCompanyError\u001b[0m\u001b[1;33m(\u001b[0m\u001b[1;34m\"Employee count cannot be negative\"\u001b[0m\u001b[1;33m,\u001b[0m \u001b[0memployees_count\u001b[0m\u001b[1;33m)\u001b[0m\u001b[1;33m\u001b[0m\u001b[1;33m\u001b[0m\u001b[0m\n\u001b[0m\u001b[0;32m     14\u001b[0m         \u001b[0mself\u001b[0m\u001b[1;33m.\u001b[0m\u001b[0m_company_name\u001b[0m \u001b[1;33m=\u001b[0m \u001b[0mcompany_name\u001b[0m\u001b[1;33m\u001b[0m\u001b[1;33m\u001b[0m\u001b[0m\n\u001b[0;32m     15\u001b[0m         \u001b[0mself\u001b[0m\u001b[1;33m.\u001b[0m\u001b[0m_founded_at\u001b[0m \u001b[1;33m=\u001b[0m \u001b[0mfounded_at\u001b[0m\u001b[1;33m\u001b[0m\u001b[1;33m\u001b[0m\u001b[0m\n",
      "\u001b[1;31mCompanyError\u001b[0m: Employee count cannot be negative: -20"
     ]
    }
   ],
   "source": [
    "comp1 = Company(\"Apple\", 1970, -20)"
   ]
  },
  {
   "cell_type": "code",
   "execution_count": 119,
   "metadata": {},
   "outputs": [],
   "source": [
    "comp2 = Company(\"Krisp\", 2017, 230)"
   ]
  },
  {
   "cell_type": "code",
   "execution_count": 120,
   "metadata": {},
   "outputs": [
    {
     "ename": "JobError",
     "evalue": "Experience cannot be negative: -3",
     "output_type": "error",
     "traceback": [
      "\u001b[1;31m---------------------------------------------------------------------------\u001b[0m",
      "\u001b[1;31mJobError\u001b[0m                                  Traceback (most recent call last)",
      "\u001b[1;32m<ipython-input-120-42c3f85697df>\u001b[0m in \u001b[0;36m<module>\u001b[1;34m\u001b[0m\n\u001b[1;32m----> 1\u001b[1;33m \u001b[0mjob1\u001b[0m \u001b[1;33m=\u001b[0m \u001b[0mJob\u001b[0m\u001b[1;33m(\u001b[0m\u001b[0mcomp2\u001b[0m\u001b[1;33m,\u001b[0m \u001b[1;36m75000\u001b[0m\u001b[1;33m,\u001b[0m \u001b[1;33m-\u001b[0m\u001b[1;36m3\u001b[0m\u001b[1;33m,\u001b[0m \u001b[1;34m\" Web developer\"\u001b[0m\u001b[1;33m)\u001b[0m\u001b[1;33m\u001b[0m\u001b[1;33m\u001b[0m\u001b[0m\n\u001b[0m",
      "\u001b[1;32m<ipython-input-117-d22e8c331108>\u001b[0m in \u001b[0;36m__init__\u001b[1;34m(self, company, salary, experience_year, position)\u001b[0m\n\u001b[0;32m     33\u001b[0m \u001b[1;33m\u001b[0m\u001b[0m\n\u001b[0;32m     34\u001b[0m         \u001b[1;32mif\u001b[0m \u001b[0mexperience_year\u001b[0m \u001b[1;33m<\u001b[0m \u001b[1;36m0\u001b[0m\u001b[1;33m:\u001b[0m\u001b[1;33m\u001b[0m\u001b[1;33m\u001b[0m\u001b[0m\n\u001b[1;32m---> 35\u001b[1;33m             \u001b[1;32mraise\u001b[0m \u001b[0mJobError\u001b[0m\u001b[1;33m(\u001b[0m\u001b[1;34m\"Experience cannot be negative\"\u001b[0m\u001b[1;33m,\u001b[0m \u001b[0mexperience_year\u001b[0m\u001b[1;33m)\u001b[0m\u001b[1;33m\u001b[0m\u001b[1;33m\u001b[0m\u001b[0m\n\u001b[0m\u001b[0;32m     36\u001b[0m         \u001b[0mself\u001b[0m\u001b[1;33m.\u001b[0m\u001b[0m_company\u001b[0m \u001b[1;33m=\u001b[0m \u001b[0mcompany\u001b[0m\u001b[1;33m\u001b[0m\u001b[1;33m\u001b[0m\u001b[0m\n\u001b[0;32m     37\u001b[0m         \u001b[0mself\u001b[0m\u001b[1;33m.\u001b[0m\u001b[0m_salary\u001b[0m \u001b[1;33m=\u001b[0m \u001b[0msalary\u001b[0m\u001b[1;33m\u001b[0m\u001b[1;33m\u001b[0m\u001b[0m\n",
      "\u001b[1;31mJobError\u001b[0m: Experience cannot be negative: -3"
     ]
    }
   ],
   "source": [
    "job1 = Job(comp2, 75000, -3, \" Web developer\")"
   ]
  },
  {
   "cell_type": "code",
   "execution_count": 158,
   "metadata": {},
   "outputs": [],
   "source": [
    "class DateError(Exception):\n",
    "    def __init__(self, message, value):\n",
    "        self._message = message\n",
    "        self._value = value\n",
    "        super().__init__(f\"{message}: {value}\")\n",
    "        \n",
    "        \n",
    "class Date:\n",
    "\n",
    "    def __init__(self, day, month, year):\n",
    "        if day < 1 or day > 31:\n",
    "            raise DateError(\"Date should be between 1 and 31\", day)\n",
    "            \n",
    "        if month < 1 or month > 12:\n",
    "            raise DateError(\"Month should be between 1 and 12\", month)\n",
    "        self._day = day\n",
    "        self._month = month\n",
    "        self._year = year\n",
    "        \n",
    "    def __repr__(self):\n",
    "        return f\"{self._day}.{self._month}.{self._year}\"\n",
    "    \n",
    "    def add_day(self, n):\n",
    "        mo = {1: 31, 2: 28, 3: 31, 4: 30, 5: 31, 6: 30, 7: 31, 8: 31, 9: 30, 10: 31, 11: 30, 12: 31}\n",
    "        if self.is_leap_year():\n",
    "            mo.update({2 : 29})\n",
    "\n",
    "        for i in range(n):\n",
    "            if mo[self._month] == self._day:\n",
    "                self.add_month(1)\n",
    "                self._day = 1\n",
    "            else:\n",
    "                self._day += 1\n",
    "        \n",
    "    def add_month(self,n):\n",
    "        for i in range(n):\n",
    "            if self._month == 12:\n",
    "                self.add_year(1)\n",
    "                self._month = 1\n",
    "            else:\n",
    "                self._month += 1\n",
    "        \n",
    "    def add_year(self,n):\n",
    "        self._year += n\n",
    "        \n",
    "    def is_leap_year(self):\n",
    "        if (self._year % 400 == 0) and (self._year % 100 == 0):\n",
    "            return True\n",
    "        elif (self._year % 4 ==0) and (self._year % 100 != 0):\n",
    "            return True\n",
    "        else:\n",
    "            return False\n",
    "        \n",
    "    def sub_year(self,n):\n",
    "        self._year -= n\n",
    "        \n",
    "    def sub_month(self,n):\n",
    "        for i in range(n):\n",
    "            if self._month == 1:\n",
    "                self.sub_year(1)\n",
    "                self._month = 12\n",
    "            else:\n",
    "                self._month -= 1\n",
    "                \n",
    "    def sub_day(self,n):\n",
    "        mo = {1: 31, 2: 28, 3: 31, 4: 30, 5: 31, 6: 30, 7: 31, 8: 31, 9: 30, 10: 31, 11: 30, 12: 31}\n",
    "        if self.is_leap_year():\n",
    "            mo.update({2 : 29})\n",
    "\n",
    "        for i in range(n):\n",
    "            if self._day == 1 :\n",
    "                self.sub_month(1)\n",
    "                self._day = mo[self._month]\n",
    "            else:\n",
    "                self._day += 1\n",
    "            "
   ]
  },
  {
   "cell_type": "code",
   "execution_count": 123,
   "metadata": {},
   "outputs": [
    {
     "data": {
      "text/plain": [
       "27.2.2012"
      ]
     },
     "execution_count": 123,
     "metadata": {},
     "output_type": "execute_result"
    }
   ],
   "source": [
    "d1 = Date(27,2,2012)\n",
    "d1"
   ]
  },
  {
   "cell_type": "code",
   "execution_count": 124,
   "metadata": {},
   "outputs": [],
   "source": [
    "d1.add_month(23)"
   ]
  },
  {
   "cell_type": "code",
   "execution_count": 125,
   "metadata": {},
   "outputs": [
    {
     "data": {
      "text/plain": [
       "27.1.2014"
      ]
     },
     "execution_count": 125,
     "metadata": {},
     "output_type": "execute_result"
    }
   ],
   "source": [
    "d1"
   ]
  },
  {
   "cell_type": "code",
   "execution_count": 129,
   "metadata": {},
   "outputs": [
    {
     "ename": "DateError",
     "evalue": "Date should be between 1 and 31: 54",
     "output_type": "error",
     "traceback": [
      "\u001b[1;31m---------------------------------------------------------------------------\u001b[0m",
      "\u001b[1;31mDateError\u001b[0m                                 Traceback (most recent call last)",
      "\u001b[1;32m<ipython-input-129-2a9a7c3a11ee>\u001b[0m in \u001b[0;36m<module>\u001b[1;34m\u001b[0m\n\u001b[1;32m----> 1\u001b[1;33m \u001b[0md2\u001b[0m \u001b[1;33m=\u001b[0m \u001b[0mDate\u001b[0m\u001b[1;33m(\u001b[0m\u001b[1;36m54\u001b[0m\u001b[1;33m,\u001b[0m \u001b[1;36m12\u001b[0m\u001b[1;33m,\u001b[0m \u001b[1;36m2005\u001b[0m\u001b[1;33m)\u001b[0m\u001b[1;33m\u001b[0m\u001b[1;33m\u001b[0m\u001b[0m\n\u001b[0m",
      "\u001b[1;32m<ipython-input-127-d6f382200de3>\u001b[0m in \u001b[0;36m__init__\u001b[1;34m(self, day, month, year)\u001b[0m\n\u001b[0;32m     10\u001b[0m     \u001b[1;32mdef\u001b[0m \u001b[0m__init__\u001b[0m\u001b[1;33m(\u001b[0m\u001b[0mself\u001b[0m\u001b[1;33m,\u001b[0m \u001b[0mday\u001b[0m\u001b[1;33m,\u001b[0m \u001b[0mmonth\u001b[0m\u001b[1;33m,\u001b[0m \u001b[0myear\u001b[0m\u001b[1;33m)\u001b[0m\u001b[1;33m:\u001b[0m\u001b[1;33m\u001b[0m\u001b[1;33m\u001b[0m\u001b[0m\n\u001b[0;32m     11\u001b[0m         \u001b[1;32mif\u001b[0m \u001b[0mday\u001b[0m \u001b[1;33m<\u001b[0m \u001b[1;36m1\u001b[0m \u001b[1;32mor\u001b[0m \u001b[0mday\u001b[0m \u001b[1;33m>\u001b[0m \u001b[1;36m31\u001b[0m\u001b[1;33m:\u001b[0m\u001b[1;33m\u001b[0m\u001b[1;33m\u001b[0m\u001b[0m\n\u001b[1;32m---> 12\u001b[1;33m             \u001b[1;32mraise\u001b[0m \u001b[0mDateError\u001b[0m\u001b[1;33m(\u001b[0m\u001b[1;34m\"Date should be between 1 and 31\"\u001b[0m\u001b[1;33m,\u001b[0m \u001b[0mday\u001b[0m\u001b[1;33m)\u001b[0m\u001b[1;33m\u001b[0m\u001b[1;33m\u001b[0m\u001b[0m\n\u001b[0m\u001b[0;32m     13\u001b[0m \u001b[1;33m\u001b[0m\u001b[0m\n\u001b[0;32m     14\u001b[0m         \u001b[1;32mif\u001b[0m \u001b[0mmonth\u001b[0m \u001b[1;33m<\u001b[0m \u001b[1;36m1\u001b[0m \u001b[1;32mor\u001b[0m \u001b[0mmonth\u001b[0m \u001b[1;33m>\u001b[0m \u001b[1;36m12\u001b[0m\u001b[1;33m:\u001b[0m\u001b[1;33m\u001b[0m\u001b[1;33m\u001b[0m\u001b[0m\n",
      "\u001b[1;31mDateError\u001b[0m: Date should be between 1 and 31: 54"
     ]
    }
   ],
   "source": [
    "d2 = Date(54, 12, 2005)"
   ]
  },
  {
   "cell_type": "code",
   "execution_count": 219,
   "metadata": {},
   "outputs": [],
   "source": [
    "class TimeError(Exception):\n",
    "    def __init__(self, message, value):\n",
    "        self._message = message\n",
    "        self._value = value\n",
    "        super().__init__(f\"{message}: {value}\")\n",
    "        \n",
    "        \n",
    "class Time:\n",
    "    \n",
    "    def __init__(self,hour, minute, second):\n",
    "        if hour < 0 or hour > 24:\n",
    "            raise TimeError(\"Hours should be between 0 and 24\", hour)\n",
    "        if minute < 0 or minute > 59:\n",
    "            raise TimeError(\"Minute should be between 0 and 59\", minute)\n",
    "        if second < 0 or second > 59:\n",
    "            raise TimeError(\"Second should be between 0 and 59\", second)\n",
    "        self._hour = hour\n",
    "        self._minute = minute\n",
    "        self._second = second\n",
    "        \n",
    "    def __repr__(self):\n",
    "        return f\"{self._hour}h:{self._minute}m:{self._second}s\"\n",
    "            \n",
    "    def add_second(self,n):\n",
    "        \n",
    "        for i in range(n):\n",
    "            if self._second == 59:\n",
    "                self.add_minute(1)\n",
    "                self._second = 0\n",
    "            else:\n",
    "                self._second += 1\n",
    "            \n",
    "    def add_minute(self,n):\n",
    "        \n",
    "        for i in range(n):\n",
    "            if self._minute == 59:\n",
    "                self.add_hour(1)\n",
    "                self._minute = 0\n",
    "            else:\n",
    "                self._minute += 1\n",
    "            \n",
    "    def add_hour(self,n):\n",
    "        for i in range(n):\n",
    "            if self._hour == 23:\n",
    "                self._hour = (self._hour + 1)%24\n",
    "            else:\n",
    "                self._hour += 1\n",
    "        \n",
    "            "
   ]
  },
  {
   "cell_type": "code",
   "execution_count": 220,
   "metadata": {},
   "outputs": [
    {
     "data": {
      "text/plain": [
       "2h:50m:24s"
      ]
     },
     "execution_count": 220,
     "metadata": {},
     "output_type": "execute_result"
    }
   ],
   "source": [
    "t1 = Time(2,50,24)\n",
    "t1"
   ]
  },
  {
   "cell_type": "code",
   "execution_count": 221,
   "metadata": {},
   "outputs": [],
   "source": [
    "t1.add_minute(120)"
   ]
  },
  {
   "cell_type": "code",
   "execution_count": 222,
   "metadata": {},
   "outputs": [
    {
     "data": {
      "text/plain": [
       "4h:50m:24s"
      ]
     },
     "execution_count": 222,
     "metadata": {},
     "output_type": "execute_result"
    }
   ],
   "source": [
    "t1"
   ]
  },
  {
   "cell_type": "code",
   "execution_count": 223,
   "metadata": {},
   "outputs": [],
   "source": [
    "t1.add_hour(20)"
   ]
  },
  {
   "cell_type": "code",
   "execution_count": 224,
   "metadata": {},
   "outputs": [
    {
     "data": {
      "text/plain": [
       "0h:50m:24s"
      ]
     },
     "execution_count": 224,
     "metadata": {},
     "output_type": "execute_result"
    }
   ],
   "source": [
    "t1"
   ]
  },
  {
   "cell_type": "markdown",
   "metadata": {},
   "source": [
    "### DateTime"
   ]
  },
  {
   "cell_type": "code",
   "execution_count": 274,
   "metadata": {},
   "outputs": [],
   "source": [
    "class DateTime():\n",
    "    \n",
    "    def __init__(self, date, time):\n",
    "        self._date = date\n",
    "        self._time = time\n",
    "        \n",
    "    def __repr__(self):\n",
    "        return f\"{self._date} {self._time}\"\n",
    "    \n",
    "    @property\n",
    "    def date(self):\n",
    "        return self._date\n",
    "    \n",
    "    @date.setter\n",
    "    def date(self, value):\n",
    "        self._date = value\n",
    "        \n",
    "    @property\n",
    "    def time(self):\n",
    "        return self._time\n",
    "    \n",
    "    @time.setter\n",
    "    def time(self, value):\n",
    "        self._time = value\n",
    "        \n",
    "    def add_second(self, n):\n",
    "        self._time.add_second(n)\n",
    "        \n",
    "    def add_minute(self, n):\n",
    "        self._time.add_minute(n)\n",
    "        \n",
    "    def add_hour(self,n):\n",
    "        for i in range(n):\n",
    "            if self._time._hour == 23:\n",
    "                self._time._hour = (self._time._hour + 1)%24\n",
    "                self._date._day += 1\n",
    "            else:\n",
    "                self._time._hour += 1\n",
    "    \n",
    "    def add_day(self, n):\n",
    "        self._date.add_day(n)\n",
    "    \n",
    "    def add_month(self, n):\n",
    "        self._date.add_month(n)\n",
    "        \n",
    "    def add_year(self, n):\n",
    "        self._date.add_year(n)\n",
    "        \n",
    "    def sub_year(self,n):\n",
    "        self._date.sub_year(n)\n",
    "        \n",
    "    def sub_month(self,n):\n",
    "        self._date.sub_month(n)\n",
    "        \n",
    "    def sub_day(self,n):\n",
    "        self._date.sub_day(n)\n",
    "        \n",
    "        \n",
    "    def sub_hour(self,n):\n",
    "        for i in range(n):\n",
    "            if self._time._hour == 0:\n",
    "                self._time._hour = 23\n",
    "                self._date._day -= 1\n",
    "            else:\n",
    "                self._time._hour -= 1\n",
    "            \n",
    "            \n",
    "    def sub_minute(self,n):\n",
    "        \n",
    "        for i in range(n):\n",
    "            if self._time._minute == 0:\n",
    "                self.sub_hour(1)\n",
    "                self._time._minute = 59\n",
    "            else:\n",
    "                self._time._minute -= 1\n",
    "                \n",
    "    def sub_second(self,n):\n",
    "        \n",
    "        for i in range(n):\n",
    "            if self._time._second == 0:\n",
    "                self.sub_minute(1)\n",
    "                self._time._second = 59\n",
    "            else:\n",
    "                self._time._second -= 1\n",
    "\n",
    "        "
   ]
  },
  {
   "cell_type": "code",
   "execution_count": 275,
   "metadata": {},
   "outputs": [],
   "source": [
    "datetime1 = DateTime(Date(1,2,2003), Time(12,45,36))"
   ]
  },
  {
   "cell_type": "code",
   "execution_count": 276,
   "metadata": {},
   "outputs": [
    {
     "data": {
      "text/plain": [
       "1.2.2003 12h:45m:36s"
      ]
     },
     "execution_count": 276,
     "metadata": {},
     "output_type": "execute_result"
    }
   ],
   "source": [
    "datetime1"
   ]
  },
  {
   "cell_type": "code",
   "execution_count": 277,
   "metadata": {},
   "outputs": [],
   "source": [
    "datetime1.sub_year(1)"
   ]
  },
  {
   "cell_type": "code",
   "execution_count": 278,
   "metadata": {},
   "outputs": [],
   "source": [
    "datetime1.sub_month(2)"
   ]
  },
  {
   "cell_type": "code",
   "execution_count": 279,
   "metadata": {},
   "outputs": [
    {
     "data": {
      "text/plain": [
       "1.12.2001 12h:45m:36s"
      ]
     },
     "execution_count": 279,
     "metadata": {},
     "output_type": "execute_result"
    }
   ],
   "source": [
    "datetime1"
   ]
  },
  {
   "cell_type": "code",
   "execution_count": 280,
   "metadata": {},
   "outputs": [],
   "source": [
    "datetime1.add_hour(12)"
   ]
  },
  {
   "cell_type": "code",
   "execution_count": 281,
   "metadata": {},
   "outputs": [
    {
     "data": {
      "text/plain": [
       "2.12.2001 0h:45m:36s"
      ]
     },
     "execution_count": 281,
     "metadata": {},
     "output_type": "execute_result"
    }
   ],
   "source": [
    "datetime1"
   ]
  },
  {
   "cell_type": "code",
   "execution_count": 282,
   "metadata": {},
   "outputs": [
    {
     "data": {
      "text/plain": [
       "4.5.2022 10h:7m:54s"
      ]
     },
     "execution_count": 282,
     "metadata": {},
     "output_type": "execute_result"
    }
   ],
   "source": [
    "datetime2 = DateTime(Date(4,5,2022), Time(10, 7, 54))\n",
    "datetime2"
   ]
  },
  {
   "cell_type": "code",
   "execution_count": 283,
   "metadata": {},
   "outputs": [],
   "source": [
    "datetime2.sub_hour(11)"
   ]
  },
  {
   "cell_type": "code",
   "execution_count": 284,
   "metadata": {},
   "outputs": [
    {
     "data": {
      "text/plain": [
       "3.5.2022 23h:7m:54s"
      ]
     },
     "execution_count": 284,
     "metadata": {},
     "output_type": "execute_result"
    }
   ],
   "source": [
    "datetime2"
   ]
  },
  {
   "cell_type": "code",
   "execution_count": 285,
   "metadata": {},
   "outputs": [],
   "source": [
    "datetime2.sub_minute(8)"
   ]
  },
  {
   "cell_type": "code",
   "execution_count": 286,
   "metadata": {},
   "outputs": [
    {
     "data": {
      "text/plain": [
       "3.5.2022 22h:59m:54s"
      ]
     },
     "execution_count": 286,
     "metadata": {},
     "output_type": "execute_result"
    }
   ],
   "source": [
    "datetime2"
   ]
  },
  {
   "cell_type": "markdown",
   "metadata": {},
   "source": [
    "### Money"
   ]
  },
  {
   "cell_type": "code",
   "execution_count": 287,
   "metadata": {},
   "outputs": [],
   "source": [
    "class MoneyError(Exception):\n",
    "    def __init__(self, message, value):\n",
    "        self._message = message\n",
    "        self._value = value\n",
    "        super().__init__(f\"{message}: {value}\")\n",
    "    \n",
    "class Money:\n",
    "       \n",
    "    def  __init__(self, amount, currency):\n",
    "        exchange = {\"AMD\": 1, \"RUB\": 5.8, \"USD\": 400, \"EUR\": 430}\n",
    "        if currency not in list(exchange.keys()):\n",
    "            raise MoneyError(\"Currency should be AMD,RUB,USD, or EUR\", currency)\n",
    "        self._amount = amount\n",
    "        self._currency = currency.upper()\n",
    "        \n",
    "    def __repr__(self):\n",
    "        return f\"{self._amount} {self._currency}\"\n",
    "    \n",
    "    @property\n",
    "    def amount(self):\n",
    "        return self._amount\n",
    "    \n",
    "    @amount.setter\n",
    "    def amount(self, value):\n",
    "        self._amount = value\n",
    "        \n",
    "    @property\n",
    "    def currency(self):\n",
    "        return self._currency\n",
    "    \n",
    "    @currency.setter\n",
    "    def currency(self,string):\n",
    "        self._currency = string\n",
    "    \n",
    "    @call_counter\n",
    "    def conversion(self):\n",
    "        exchange = {\"AMD\": 1, \"RUB\": 5.8, \"USD\": 400, \"EUR\": 430}\n",
    "        self._amount = exchange[self._currency] * self._amount\n",
    "        self._currency = \"AMD\"\n",
    "        \n",
    "    def __add__(self, val):\n",
    "        self.conversion()\n",
    "        val.conversion()\n",
    "        return f\"{self._amount + val._amount} AMD\"\n",
    "    \n",
    "    def __sub__(self, val):\n",
    "        self.conversion()\n",
    "        val.conversion()\n",
    "        return f\"{self._amount - val._amount} AMD\"\n",
    "    \n",
    "    def __truediv__(self, val):\n",
    "        self.conversion()\n",
    "        val.conversion()\n",
    "        return f\"{self._amount / val._amount} AMD\"\n",
    "    \n",
    "    def __eq__(self,val):\n",
    "        self.conversion()\n",
    "        val.conversion()\n",
    "        return self._amount == val._amount\n",
    "    \n",
    "    def __ne__(self,val):\n",
    "        self.conversion()\n",
    "        val.conversion()\n",
    "        return self._amount != val._amount\n",
    "    \n",
    "    def __lt__(self, val):\n",
    "        self.conversion()\n",
    "        val.conversion()\n",
    "        return self._amount < val._amount\n",
    "    \n",
    "    def __gt__(self, val):\n",
    "        self.conversion()\n",
    "        val.conversion()\n",
    "        return self._amount > val._amount\n",
    "    \n",
    "    def __le__(self, val):\n",
    "        self.conversion()\n",
    "        val.conversion()\n",
    "        return self._amount <= val._amount\n",
    "    \n",
    "    def __ge__(self, val):\n",
    "        self.conversion()\n",
    "        val.conversion()\n",
    "        return self._amount >= val._amount\n"
   ]
  },
  {
   "cell_type": "code",
   "execution_count": 105,
   "metadata": {},
   "outputs": [],
   "source": [
    "x = Money(400, \"Rub\")"
   ]
  },
  {
   "cell_type": "code",
   "execution_count": 106,
   "metadata": {},
   "outputs": [],
   "source": [
    "x.conversion()"
   ]
  },
  {
   "cell_type": "code",
   "execution_count": 107,
   "metadata": {},
   "outputs": [
    {
     "data": {
      "text/plain": [
       "2320.0 AMD"
      ]
     },
     "execution_count": 107,
     "metadata": {},
     "output_type": "execute_result"
    }
   ],
   "source": [
    "x"
   ]
  },
  {
   "cell_type": "code",
   "execution_count": 108,
   "metadata": {},
   "outputs": [],
   "source": [
    "y = Money(50, \"Eur\")"
   ]
  },
  {
   "cell_type": "code",
   "execution_count": 109,
   "metadata": {},
   "outputs": [
    {
     "data": {
      "text/plain": [
       "'23820.0 AMD'"
      ]
     },
     "execution_count": 109,
     "metadata": {},
     "output_type": "execute_result"
    }
   ],
   "source": [
    "x + y"
   ]
  },
  {
   "cell_type": "code",
   "execution_count": 110,
   "metadata": {},
   "outputs": [
    {
     "data": {
      "text/plain": [
       "3"
      ]
     },
     "execution_count": 110,
     "metadata": {},
     "output_type": "execute_result"
    }
   ],
   "source": [
    "x.conversion.calls"
   ]
  },
  {
   "cell_type": "code",
   "execution_count": 288,
   "metadata": {},
   "outputs": [
    {
     "ename": "MoneyError",
     "evalue": "Currency should be AMD,RUB,USD, or EUR: funt",
     "output_type": "error",
     "traceback": [
      "\u001b[1;31m---------------------------------------------------------------------------\u001b[0m",
      "\u001b[1;31mMoneyError\u001b[0m                                Traceback (most recent call last)",
      "\u001b[1;32m<ipython-input-288-b11808418820>\u001b[0m in \u001b[0;36m<module>\u001b[1;34m\u001b[0m\n\u001b[1;32m----> 1\u001b[1;33m \u001b[0mz\u001b[0m \u001b[1;33m=\u001b[0m \u001b[0mMoney\u001b[0m\u001b[1;33m(\u001b[0m\u001b[1;36m45\u001b[0m\u001b[1;33m,\u001b[0m \u001b[1;34m\"funt\"\u001b[0m\u001b[1;33m)\u001b[0m\u001b[1;33m\u001b[0m\u001b[1;33m\u001b[0m\u001b[0m\n\u001b[0m",
      "\u001b[1;32m<ipython-input-287-56b6fb349f8c>\u001b[0m in \u001b[0;36m__init__\u001b[1;34m(self, amount, currency)\u001b[0m\n\u001b[0;32m     10\u001b[0m         \u001b[0mexchange\u001b[0m \u001b[1;33m=\u001b[0m \u001b[1;33m{\u001b[0m\u001b[1;34m\"AMD\"\u001b[0m\u001b[1;33m:\u001b[0m \u001b[1;36m1\u001b[0m\u001b[1;33m,\u001b[0m \u001b[1;34m\"RUB\"\u001b[0m\u001b[1;33m:\u001b[0m \u001b[1;36m5.8\u001b[0m\u001b[1;33m,\u001b[0m \u001b[1;34m\"USD\"\u001b[0m\u001b[1;33m:\u001b[0m \u001b[1;36m400\u001b[0m\u001b[1;33m,\u001b[0m \u001b[1;34m\"EUR\"\u001b[0m\u001b[1;33m:\u001b[0m \u001b[1;36m430\u001b[0m\u001b[1;33m}\u001b[0m\u001b[1;33m\u001b[0m\u001b[1;33m\u001b[0m\u001b[0m\n\u001b[0;32m     11\u001b[0m         \u001b[1;32mif\u001b[0m \u001b[0mcurrency\u001b[0m \u001b[1;32mnot\u001b[0m \u001b[1;32min\u001b[0m \u001b[0mlist\u001b[0m\u001b[1;33m(\u001b[0m\u001b[0mexchange\u001b[0m\u001b[1;33m.\u001b[0m\u001b[0mkeys\u001b[0m\u001b[1;33m(\u001b[0m\u001b[1;33m)\u001b[0m\u001b[1;33m)\u001b[0m\u001b[1;33m:\u001b[0m\u001b[1;33m\u001b[0m\u001b[1;33m\u001b[0m\u001b[0m\n\u001b[1;32m---> 12\u001b[1;33m             \u001b[1;32mraise\u001b[0m \u001b[0mMoneyError\u001b[0m\u001b[1;33m(\u001b[0m\u001b[1;34m\"Currency should be AMD,RUB,USD, or EUR\"\u001b[0m\u001b[1;33m,\u001b[0m \u001b[0mcurrency\u001b[0m\u001b[1;33m)\u001b[0m\u001b[1;33m\u001b[0m\u001b[1;33m\u001b[0m\u001b[0m\n\u001b[0m\u001b[0;32m     13\u001b[0m         \u001b[0mself\u001b[0m\u001b[1;33m.\u001b[0m\u001b[0m_amount\u001b[0m \u001b[1;33m=\u001b[0m \u001b[0mamount\u001b[0m\u001b[1;33m\u001b[0m\u001b[1;33m\u001b[0m\u001b[0m\n\u001b[0;32m     14\u001b[0m         \u001b[0mself\u001b[0m\u001b[1;33m.\u001b[0m\u001b[0m_currency\u001b[0m \u001b[1;33m=\u001b[0m \u001b[0mcurrency\u001b[0m\u001b[1;33m.\u001b[0m\u001b[0mupper\u001b[0m\u001b[1;33m(\u001b[0m\u001b[1;33m)\u001b[0m\u001b[1;33m\u001b[0m\u001b[1;33m\u001b[0m\u001b[0m\n",
      "\u001b[1;31mMoneyError\u001b[0m: Currency should be AMD,RUB,USD, or EUR: funt"
     ]
    }
   ],
   "source": [
    "z = Money(45, \"funt\")"
   ]
  },
  {
   "cell_type": "markdown",
   "metadata": {},
   "source": [
    "### MyRange"
   ]
  },
  {
   "cell_type": "code",
   "execution_count": 90,
   "metadata": {},
   "outputs": [],
   "source": [
    "class MyRange:\n",
    "    \n",
    "    def __init__(self, current, end, step):\n",
    "        self._current = current\n",
    "        self._end = end\n",
    "        self._step = step\n",
    "        \n",
    "    def __repr__(self):\n",
    "        return f\"current = {self._current}, end = {self._end}, step = {self._step}\"\n",
    "    \n",
    "    def __iter__(self):\n",
    "        return self\n",
    "    \n",
    "    def __next__(self):\n",
    "        if self._current >= self._end:\n",
    "            raise StopIteration\n",
    "        else:\n",
    "            self._current += self._step\n",
    "        return self._current\n",
    "    \n",
    "    def __len__(self):\n",
    "        return self._end - self._current\n",
    "    \n",
    "#     def __getitem__(self, value):\n",
    "#         return self.\n",
    "\n",
    "    def __reversed__(self):\n",
    "        for i in range(self._end, self._current - 1, -self._step):\n",
    "            yield i"
   ]
  },
  {
   "cell_type": "code",
   "execution_count": 91,
   "metadata": {},
   "outputs": [],
   "source": [
    "a = MyRange(1,5,1)"
   ]
  },
  {
   "cell_type": "code",
   "execution_count": 92,
   "metadata": {},
   "outputs": [
    {
     "data": {
      "text/plain": [
       "current = 1, end = 5, step = 1"
      ]
     },
     "execution_count": 92,
     "metadata": {},
     "output_type": "execute_result"
    }
   ],
   "source": [
    "a"
   ]
  },
  {
   "cell_type": "code",
   "execution_count": 93,
   "metadata": {},
   "outputs": [],
   "source": [
    "a1 = reversed(a)"
   ]
  },
  {
   "cell_type": "code",
   "execution_count": 99,
   "metadata": {},
   "outputs": [
    {
     "ename": "StopIteration",
     "evalue": "",
     "output_type": "error",
     "traceback": [
      "\u001b[1;31m---------------------------------------------------------------------------\u001b[0m",
      "\u001b[1;31mStopIteration\u001b[0m                             Traceback (most recent call last)",
      "\u001b[1;32m<ipython-input-99-80d6290cb2ac>\u001b[0m in \u001b[0;36m<module>\u001b[1;34m\u001b[0m\n\u001b[1;32m----> 1\u001b[1;33m \u001b[0mnext\u001b[0m\u001b[1;33m(\u001b[0m\u001b[0ma1\u001b[0m\u001b[1;33m)\u001b[0m\u001b[1;33m\u001b[0m\u001b[1;33m\u001b[0m\u001b[0m\n\u001b[0m",
      "\u001b[1;31mStopIteration\u001b[0m: "
     ]
    }
   ],
   "source": [
    "next(a1)"
   ]
  },
  {
   "cell_type": "code",
   "execution_count": 76,
   "metadata": {},
   "outputs": [],
   "source": [
    "a2 = iter(a)"
   ]
  },
  {
   "cell_type": "code",
   "execution_count": 77,
   "metadata": {},
   "outputs": [
    {
     "data": {
      "text/plain": [
       "2"
      ]
     },
     "execution_count": 77,
     "metadata": {},
     "output_type": "execute_result"
    }
   ],
   "source": [
    "next(a2)"
   ]
  },
  {
   "cell_type": "markdown",
   "metadata": {},
   "source": [
    "### Doctor"
   ]
  },
  {
   "cell_type": "code",
   "execution_count": null,
   "metadata": {},
   "outputs": [],
   "source": [
    "class Doctor(Person):\n",
    "    \n",
    "    def __init__(self, name, surname, gender, age, address, friends, jobs, department, profession, patronymic, salary):\n",
    "        super().__init__(self, name, surname, gender, age, address, friends, jobs)\n",
    "        self._department = department\n",
    "        self._profession = profession\n",
    "        self._patronymic = patronymic\n",
    "        self._salary = salary\n",
    "        \n",
    "    def __repr__(self):\n",
    "        return f\"{self._name} {self._surname} is a {self._profession} doctor at {self._department} department\"\n",
    "    \n",
    "    @property\n",
    "    def department(self):\n",
    "        return self._department\n",
    "    \n",
    "    @department.setter\n",
    "    def department(self,value):\n",
    "        self._department = value\n",
    "        \n",
    "    @property\n",
    "    def profession(self):\n",
    "        return self._profession\n",
    "    \n",
    "    @profession.setter\n",
    "    def profession(self,value):\n",
    "        self._profession = value\n",
    "        \n",
    "    @property\n",
    "    def patronymic(self):\n",
    "        return self._patronymic\n",
    "    \n",
    "    @property\n",
    "    def salary(self):\n",
    "        return self._salary\n",
    "    \n",
    "    @salary.setter\n",
    "    def salary(self,value):\n",
    "        self._sallary = value\n",
    "        "
   ]
  },
  {
   "cell_type": "markdown",
   "metadata": {},
   "source": [
    "### City"
   ]
  },
  {
   "cell_type": "code",
   "execution_count": null,
   "metadata": {},
   "outputs": [],
   "source": [
    "class City:\n",
    "     def __init__(self, name, mayor, population, language):\n",
    "            self._name = name\n",
    "            self._mayor = mayor\n",
    "            self._population = population\n",
    "            self._language = language\n",
    "            \n",
    "    def __repr__(self):\n",
    "        return f\"The city {self._name} the mayor of which is {self._mayor}, has population of {self._population} and language {self._language}\"\n",
    "    \n",
    "    \n",
    "    @property\n",
    "    def name(self):\n",
    "        return self._name\n",
    "    \n",
    "    @name.setter\n",
    "    def name(self, value):\n",
    "        self._name = value\n",
    "        \n",
    "    @property\n",
    "    def mayor(self):\n",
    "        return self._mayor\n",
    "    \n",
    "    @mayor.setter(self,value):\n",
    "        self._mayor = value\n",
    "        \n",
    "    @property\n",
    "    def population(self):\n",
    "        return self._population\n",
    "    \n",
    "    @population.setter\n",
    "    def population(self, value):\n",
    "        self._popukation = value\n",
    "        \n",
    "    @property\n",
    "    def language(self):\n",
    "        return self._language"
   ]
  },
  {
   "cell_type": "markdown",
   "metadata": {},
   "source": [
    "### University"
   ]
  },
  {
   "cell_type": "code",
   "execution_count": 2,
   "metadata": {},
   "outputs": [],
   "source": [
    "class University:\n",
    "    def __init__(self, name, founded_at, rector, city):\n",
    "        self._name = name\n",
    "        self._founded_at = founded_at\n",
    "        self._rector = rector\n",
    "        self._city = city\n",
    "    \n",
    "    def __repr__(self):\n",
    "        return f\"{self._name} was founded in {self._founded_at} in {self._city}, Rector is {self._rector}\"\n",
    "    \n",
    "    @property\n",
    "    def name(self):\n",
    "        return self._name\n",
    "    \n",
    "    @name.setter\n",
    "    def name(self, val):\n",
    "        self._name = val\n",
    "        \n",
    "    @property\n",
    "    def founded_at(self):\n",
    "        return self._founded_at\n",
    "    \n",
    "    @founded_at.setter\n",
    "    def founded_at(self, val):\n",
    "        self._founded_at = val\n",
    "        \n",
    "    @property\n",
    "    def rector(self):\n",
    "        return self._rector\n",
    "    \n",
    "    @rector.setter\n",
    "    def rector(self, val):\n",
    "        self._rector = val\n",
    "        \n",
    "    @property\n",
    "    def city(self):\n",
    "        return self._city\n",
    "    \n",
    "    @city.setter\n",
    "    def city(self, val):\n",
    "        self._city = val"
   ]
  },
  {
   "cell_type": "markdown",
   "metadata": {},
   "source": [
    "### Teacher"
   ]
  },
  {
   "cell_type": "code",
   "execution_count": 60,
   "metadata": {},
   "outputs": [],
   "source": [
    "class Teacher(Person):\n",
    "    def __init__(self, name, surname, gender, age, address, university, faculty, experience, start_work_at, subject, salary ,friends = [], job = []):\n",
    "        Person.__init__(self, name, surname, gender, age, address, friends, job)\n",
    "        self._university = university\n",
    "        self._faculty = faculty\n",
    "        self._experience = experience\n",
    "        self._start_work_at = start_work_at\n",
    "        self._subject = subject\n",
    "        self._salary = salary\n",
    "    \n",
    "    def __repr__(self):\n",
    "        return f\"The teacher {self._name} {self._surname} {self._gender} {self._age} {self._address},teaching at uni {self._university} {self._faculty}.\"\n",
    "    \n",
    "    @property\n",
    "    def experience(self):\n",
    "        return self._experience\n",
    "    \n",
    "    @experience.setter\n",
    "    def experience(self, val):\n",
    "        self._experience = val\n",
    "        \n",
    "    @property\n",
    "    def start_work_at(self):\n",
    "        return self._start_work_at\n",
    "    \n",
    "    @start_work_at.setter\n",
    "    def start_work_at(self, val):\n",
    "        self._start_work_at = val\n",
    "        \n",
    "    @property\n",
    "    def faculty(self):\n",
    "        return self._faculty\n",
    "    \n",
    "    @faculty.setter\n",
    "    def faculty(self, val):\n",
    "        self._faculty = val\n",
    "        \n",
    "    @faculty.deleter\n",
    "    def faculty(self):\n",
    "        del self._faculty\n",
    "        \n",
    "    @property\n",
    "    def salary(self):\n",
    "        return self._salary\n",
    "    \n",
    "    @salary.setter\n",
    "    def salary(self, val):\n",
    "        self._alary = val\n",
    "        "
   ]
  },
  {
   "cell_type": "markdown",
   "metadata": {},
   "source": [
    "### Student"
   ]
  },
  {
   "cell_type": "code",
   "execution_count": null,
   "metadata": {},
   "outputs": [],
   "source": [
    "class Student(Person):\n",
    "    def __init__(self, name, surname, gender, age, address, university, faculty, course, started_at, friends = [], job = []):\n",
    "        Person.__init__(self, name, surname, gender, age, address, friends, job)\n",
    "        self._university = university\n",
    "        self._faculty = faculty\n",
    "        self._course = course\n",
    "        self._started_at = started_at\n",
    "        \n",
    "    def __repr__(self):\n",
    "        return f\" Student {self._name} {self._surname} {self._gender} {self._age} {self._address}. Studying at University {self._university}, {self._faculty}. {self._course}. Starting from {self._started_at}\"\n",
    "    \n",
    "    @property\n",
    "    def university(self):\n",
    "        return self._universuty\n",
    "    \n",
    "    @university.setter\n",
    "    def university(self, val):\n",
    "        self._university = val\n",
    "\n",
    "    @property\n",
    "    def faculty(self):\n",
    "        return self._faculty\n",
    "    \n",
    "    @faculty.setter\n",
    "    def facultu(self, val):\n",
    "        self._faculty = val\n",
    "        \n",
    "    @property\n",
    "    def course(self):\n",
    "        return self._course\n",
    "    \n",
    "    @course.setter\n",
    "    def course(self, val):\n",
    "        self._course = val\n",
    "        \n",
    "    @property\n",
    "    def started_at(self):\n",
    "        return self._started_at\n",
    "    "
   ]
  }
 ],
 "metadata": {
  "kernelspec": {
   "display_name": "Python 3",
   "language": "python",
   "name": "python3"
  },
  "language_info": {
   "codemirror_mode": {
    "name": "ipython",
    "version": 3
   },
   "file_extension": ".py",
   "mimetype": "text/x-python",
   "name": "python",
   "nbconvert_exporter": "python",
   "pygments_lexer": "ipython3",
   "version": "3.8.5"
  }
 },
 "nbformat": 4,
 "nbformat_minor": 4
}
